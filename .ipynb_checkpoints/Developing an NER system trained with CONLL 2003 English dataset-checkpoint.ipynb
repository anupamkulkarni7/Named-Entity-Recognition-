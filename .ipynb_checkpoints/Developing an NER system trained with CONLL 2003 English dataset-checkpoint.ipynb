{
 "cells": [
  {
   "cell_type": "markdown",
   "metadata": {},
   "source": [
    "# Named Entity Recognition\n",
    "#### Anupam Kulkarni (kulkarni.anupam07@gmail.com)"
   ]
  },
  {
   "cell_type": "markdown",
   "metadata": {},
   "source": [
    "## Introduction\n",
    "\n",
    "This notebook delineates various aspects of building a Entity recognition system. As mentioned in the challenge I will go through the three phases of parsing and data exploration, building and training the model and finally suggest possible improvements as well as be able to use the trained model as an API. In each step, I will also clarify on my thought process, to shed light on design choices or any other decisions I have made. \n",
    "\n",
    "A detailed description on how to run the training script file, as well as details about using the tokenizers and the model itself will be given in the actual code file. "
   ]
  },
  {
   "cell_type": "code",
   "execution_count": 1,
   "metadata": {},
   "outputs": [],
   "source": [
    "import re\n",
    "\n",
    "import matplotlib.pyplot as plt\n",
    "import numpy as np\n",
    "\n",
    "from collections import Counter\n",
    "\n",
    "from tokenizer import *\n",
    "from model import *\n",
    "from utils import *\n",
    "\n",
    "from seqeval.metrics import accuracy_score\n",
    "from seqeval.metrics import classification_report\n",
    "from seqeval.metrics import f1_score"
   ]
  },
  {
   "cell_type": "markdown",
   "metadata": {},
   "source": [
    "## Phase 1: Parsing the CONLL English dataset and Data Exploration\n",
    "\n",
    "The data is parsed using the *conll_parse* function in **utils.py**. In the original data, individual punctuation has also been assigned entity tags. However, since I am planning to build a word-level model, it is necessary to eliminate such tokens. Thus the parsing function does some amount of data pre-processing as well. \n",
    "\n",
    "With the parsed data, we can look at a few basic features in the data:\n",
    "\n",
    "1. Distribution of sentence lengths\n",
    "2. Maximum sentence length\n",
    "3. Distribution of class labels - B-/I-type tags for each entity, and O- for null entities\n",
    "\n",
    "I have not considered the numbers of entity chunks for each entity type - the reason is while they are necessary to calculate evaluation metrics, they don't drive the actual model in any way. For every input token, the model performs a classification task for 10 classes - the cost function drives this classification, not chunking. However, the final model performance will depend on how many chunks we can predict correctly. "
   ]
  },
  {
   "cell_type": "code",
   "execution_count": 2,
   "metadata": {},
   "outputs": [
    {
     "name": "stdout",
     "output_type": "stream",
     "text": [
      "Longest sentence length is 89.\n"
     ]
    }
   ],
   "source": [
    "sents, tags = conll_parse('CONLL2003/train.txt')\n",
    "lens = [len(s) for s in sents]\n",
    "print(\"Longest sentence length is {}.\".format(max(lens)))"
   ]
  },
  {
   "cell_type": "code",
   "execution_count": 3,
   "metadata": {},
   "outputs": [
    {
     "data": {
      "image/png": "[encoded data removed]",
      "text/plain": [
       "<Figure size 576x432 with 1 Axes>"
      ]
     },
     "metadata": {
      "needs_background": "light"
     },
     "output_type": "display_data"
    }
   ],
   "source": [
    "plt.figure(figsize=(8, 6))\n",
    "plt.hist(lens,)\n",
    "#plt.xticks(rotation='vertical')\n",
    "plt.title('Distribution of sentence lengths in the training set')\n",
    "plt.xlabel('Sentence Length')\n",
    "plt.ylabel('Counts')\n",
    "#plt.tick_params(axis='x', which='major', labelsize=10)\n",
    "\n",
    "plt.tight_layout()\n",
    "plt.show()"
   ]
  },
  {
   "cell_type": "code",
   "execution_count": 4,
   "metadata": {},
   "outputs": [
    {
     "data": {
      "text/plain": [
       "12"
      ]
     },
     "execution_count": 4,
     "metadata": {},
     "output_type": "execute_result"
    }
   ],
   "source": [
    "sum([1 for l in lens if l>50])"
   ]
  },
  {
   "cell_type": "markdown",
   "metadata": {},
   "source": [
    "Effectively, most sentences are shorter than 50 tokens, only 12 among 13990 are longer, and only 1 longer than 60 tokens. Based on this a maximum length (required latter in model parameters) of 65 is chosen. "
   ]
  },
  {
   "cell_type": "code",
   "execution_count": 5,
   "metadata": {},
   "outputs": [
    {
     "name": "stdout",
     "output_type": "stream",
     "text": [
      "O label count: 143812\n"
     ]
    }
   ],
   "source": [
    "cnts = Counter([t for row in tags for t in row])\n",
    "lbls = [lbl for lbl in cnts.keys() if lbl != 'O']\n",
    "counts = [cnts[lbl] for lbl in lbls]\n",
    "print(\"O label count: {}\".format(cnts['O']))"
   ]
  },
  {
   "cell_type": "code",
   "execution_count": 6,
   "metadata": {},
   "outputs": [
    {
     "data": {
      "image/png": "[encoded data removed]",
      "text/plain": [
       "<Figure size 576x432 with 1 Axes>"
      ]
     },
     "metadata": {
      "needs_background": "light"
     },
     "output_type": "display_data"
    }
   ],
   "source": [
    "plt.figure(figsize=(8, 6))\n",
    "plt.bar(lbls,counts)\n",
    "plt.xticks(rotation='vertical')\n",
    "plt.title('Distribution of examples for each class')\n",
    "plt.xlabel('Class Labels')\n",
    "plt.ylabel('Counts')\n",
    "plt.tick_params(axis='x', which='major', labelsize=10)\n",
    "\n",
    "plt.tight_layout()\n",
    "plt.show()"
   ]
  },
  {
   "cell_type": "markdown",
   "metadata": {},
   "source": [
    "Overall, while the entity labels are imbalanced, we still have enough examples for each to effectively train our model. Based on performance, we can decide if necessary to weight the loss function on class if necessary; however that will require looking at the results after chunking. "
   ]
  },
  {
   "cell_type": "markdown",
   "metadata": {},
   "source": [
    "## Phase 2: Model Training and Evaluation"
   ]
  },
  {
   "cell_type": "markdown",
   "metadata": {},
   "source": [
    "My choice of model strategy is based on the task and the scenario presented. Sequence models traditionally given great performance for NER tasks due their inherent ability to processes sequential context in a sentence. Additionally there are two key focus points for the scenario mentioned in the assignment:\n",
    "\n",
    "1. We want a model with reasonable performance, developed quickly - not one highly complex for SOTA results. As a result it is probably not a good idea to write a complex model from scratch, nor use pre-trained but extremely heavy models based on Transformers.\n",
    "\n",
    "2. We want a model that will generalize well - our objective is not to ace the CONLL test set, but to do well on an entirely different dataset. This means it is worthwhile to use certain pretrained components, which have been trained on much larger datasets - ie. GloVE embeddings. \n",
    "\n",
    "I have chosen to build a BiLSTM deep sequence model which works with pre-trained 50-dimensional GloVE embeddings to keep the model size small for fast training and good generalisation. Additionally, since this model integrates well with GloVE embeddings with a 400k vocabulary count, we can hope to get reasonable performace on any future tasks, even when we might not have enough data to re-train/tune our model to that specific application. I haven't set the GloVE embeddings to be trainable - for one that would be significantly expensive, and we would be fine-tuning them on the CONLL dataset which would be detrimental to generalization.\n",
    "\n",
    "I have also build a custom tokenizer whose details can be found in **tokenizer.py.** This reads in pre-trained GloVE embeddings for this problem, however it can also generate it's own vocabulary based on training data if needed and train embeddings for it. (I have chosen not use this functionality for aforementioned reasons.) Additionally, it pre-processes any input text, removing special tokens and converting words to lower-case since we are using the uncased GloVE vocabulary. \n",
    "\n",
    "I have also defined a *CaseTokenizer* - since we aren't usng character-level models, it is necessary to codify in some sense a bit of character-level information, especially for the NER task. For example, Apple and apple will be the same from a GloVE vector standpoint - but for NER they are two different entities. To that end, the CaseTokenizer classifies each word into 5 categories - *allLower, allCaps, firstCapital, numeric, other*. This is encoded as a one hot vector and concatenated to the word embedding to form the inpput for the sequence model. The basis of this idea was from **Named Entity Recognition with Bidirectional LSTM-CNNs** by *Chiu et. al.*"
   ]
  },
  {
   "cell_type": "code",
   "execution_count": 7,
   "metadata": {},
   "outputs": [
    {
     "data": {
      "image/png": "[encoded data removed]",
      "text/plain": [
       "<Figure size 432x288 with 1 Axes>"
      ]
     },
     "metadata": {
      "needs_background": "light"
     },
     "output_type": "display_data"
    },
    {
     "data": {
      "image/png": "[encoded data removed]",
      "text/plain": [
       "<Figure size 432x288 with 1 Axes>"
      ]
     },
     "metadata": {
      "needs_background": "light"
     },
     "output_type": "display_data"
    }
   ],
   "source": [
    "history = pkl_load('history')\n",
    "# Plot training & validation accuracy values\n",
    "plt.plot(history['accuracy'])\n",
    "plt.plot(history['val_accuracy'])\n",
    "plt.title('Model accuracy')\n",
    "plt.ylabel('Accuracy')\n",
    "plt.xlabel('Epoch')\n",
    "plt.legend(['Train', 'Val'], loc='upper left')\n",
    "plt.show()\n",
    "\n",
    "# Plot training & validation loss values\n",
    "plt.plot(history['loss'])\n",
    "plt.plot(history['val_loss'])\n",
    "plt.title('Model loss')\n",
    "plt.ylabel('Loss')\n",
    "plt.xlabel('Epoch')\n",
    "plt.legend(['Train', 'Val'], loc='upper left')\n",
    "plt.show()"
   ]
  },
  {
   "cell_type": "markdown",
   "metadata": {},
   "source": [
    "For training, the **run.py** file can be used; the train, validation data file-paths along with that for the GloVE embeddings need to be specified. For example,\n",
    "    \n",
    "    python run.py --train-src=<training file path> --val-src=<validation file path> --glove-file=<GloVE file path>\n",
    "    \n",
    "The details of using the run.py can be seen by\n",
    "    \n",
    "    python run.py -h/--help\n",
    "\n",
    "As reference I have saved the exact scripts I used for training and evaluation in *run.sh* which can suitably edited for further use. "
   ]
  },
  {
   "cell_type": "markdown",
   "metadata": {},
   "source": [
    "The model has been trained for 15 epochs, as the validation accuracy and losses flatten. There is a little bit of overfitting, which has been minimized using dropout. Overall we seem to get very high validation accuracy - however, this is misleading since most of the labels are 'O' tokens, which are simply negative labels. A far more effective measure for our model performance would be F1-score, since we have unbalanced class label counts. \n",
    "\n",
    "Additionally, this accuracy considers every label we classify correctly, but not the accuracy based on the entire entity chunk. As a result, I have used the *seqeval* library to better evaluate model performance by considering F1 scores of actual NER chunks. "
   ]
  },
  {
   "cell_type": "code",
   "execution_count": 8,
   "metadata": {},
   "outputs": [
    {
     "name": "stdout",
     "output_type": "stream",
     "text": [
      "Loading model weights from files...\n",
      "Tokenizers: tokenizers.pkl\n",
      "Model weights: model.h5\n"
     ]
    }
   ],
   "source": [
    "ner_tagger = NERTagger()\n",
    "ner_tagger.load()"
   ]
  },
  {
   "cell_type": "code",
   "execution_count": 9,
   "metadata": {},
   "outputs": [
    {
     "name": "stdout",
     "output_type": "stream",
     "text": [
      "           precision    recall  f1-score   support\n",
      "\n",
      "      PER       0.90      0.90      0.90      1617\n",
      "      ORG       0.79      0.81      0.80      1661\n",
      "      LOC       0.85      0.89      0.87      1668\n",
      "     MISC       0.70      0.79      0.74       702\n",
      "\n",
      "micro avg       0.83      0.86      0.84      5648\n",
      "macro avg       0.83      0.86      0.84      5648\n",
      "\n"
     ]
    }
   ],
   "source": [
    "data_path = \"CONLL2003/test.txt\"\n",
    "sents, tags = conll_parse(data_path)\n",
    "pred_tags = ner_tagger.predict(sents)\n",
    "print(classification_report(tags, pred_tags))"
   ]
  },
  {
   "cell_type": "markdown",
   "metadata": {},
   "source": [
    "As seen from the above results, we get good results on the CONLL test set with an average F1 score of 0.84. The lower number of examples in the MISC entities do hurt its score, worsened possibly due to the granularity of the class itself. \n",
    "\n",
    "As mentioned before, if better performance is necessary from the same model/data a couple of things can be done:\n",
    "\n",
    "1. Use class weights to adjust for lack of examples (Theoretically, this will help but practically applying this in Keras seems to not have improved performance. I checked other sources who also report this.)\n",
    "2. Resampling or stratified sampling to create a new training dataset which is much more balanced."
   ]
  },
  {
   "cell_type": "markdown",
   "metadata": {},
   "source": [
    "## Improving performance and deploying an API"
   ]
  },
  {
   "cell_type": "markdown",
   "metadata": {},
   "source": [
    "### Web API"
   ]
  },
  {
   "cell_type": "markdown",
   "metadata": {},
   "source": [
    "As demonstrated before, the NER model developed has a **predict** method which can be used directly to generate entities associated with each word. Note that the model first needs to be initialized and loaded (ie. the saved tokenizer and model is read) to perform this operation. \n",
    "\n",
    "Here is an example:"
   ]
  },
  {
   "cell_type": "code",
   "execution_count": 11,
   "metadata": {},
   "outputs": [
    {
     "name": "stdout",
     "output_type": "stream",
     "text": [
      "[['O', 'O', 'O', 'O', 'B-PER', 'O', 'B-LOC', 'O', 'B-ORG']]\n"
     ]
    }
   ],
   "source": [
    "txt = 'Book a flight for Anupam to India for SamsungNEXT.'\n",
    "print(ner_tagger.predict(txt))"
   ]
  },
  {
   "cell_type": "markdown",
   "metadata": {},
   "source": [
    "I have also tried to create a web-based micro-service using *flask*. To launch this service please run\n",
    "\n",
    "    python app.py\n",
    "\n",
    "and then open up http://127.0.0.1:5000/ in your browser. You should see a page with a text box to enter the input text. On hitting the 'Submit' button, the idenified tags for each word in the sentence will be displayed. \n",
    "\n",
    "I haven't been able to dockerize this, since honestly I have never used docker before. I am aware of the concepts behind containers, but I have never used them in practice. "
   ]
  },
  {
   "cell_type": "markdown",
   "metadata": {},
   "source": [
    "### Possible improvements:\n",
    "\n",
    "1. With new annotated data, we can re-train the model while initializing it with the current weights. That way, what the model has 'learnt' using the CONLL dataset is not lost. In the case where we have a large enough dataset and it is specific to a certain domain, we could re-train the model from scratch. \n",
    "\n",
    "2. Since this is a word level model using pre-trained embeddings extending it to multiple languages is quite difficult- we would basically need to increase the vocabulary across all supported languages, and train our own word vectors, which is highly data and cost intensive. A better way is to use character/sub-word level models - which in this case would require re-developing the model. However, if we could do that - jointly training a model on multiple languages with a unified character set will give much better performance than individual models for each language, even more so if the character set is shared.  \n",
    "\n",
    "3. Overall, Transformer based models are the SOTA models for NLP tasks - NER included. However, to truly get great performance, they must be tuned to our specific application, which requires data and computational power. If that is available, from a performance standpoint, the next step would be to build a BERT based model. \n",
    "\n",
    "4. In case the above is not possible, a reasonable extension of the current model would be switch to a character-level CNN which produces word embeddings, possibly concatenated with GloVE embeddings (if data is limited) or basically have character level models to generate word embeddings. \n",
    "\n",
    "5. There are several benefits to character level models. Vocabulary can be limited, and it stops scaling with the corpus. Using an 'OOV' token reduces performance and we can never have a perfect vocabulary. If we decide to tune word vectors to our application, the number of parameters gets too big (In the current 50D Glove vectors, there are 20M parameters, while the actual model only has 80k parameters.) A character set is much smaller, and any model parameters used to generate word embeddings are fewer, resulting in a faster model. "
   ]
  },
  {
   "cell_type": "code",
   "execution_count": null,
   "metadata": {},
   "outputs": [],
   "source": []
  }
 ],
 "metadata": {
  "kernelspec": {
   "display_name": "Python 3",
   "language": "python",
   "name": "python3"
  },
  "language_info": {
   "codemirror_mode": {
    "name": "ipython",
    "version": 3
   },
   "file_extension": ".py",
   "mimetype": "text/x-python",
   "name": "python",
   "nbconvert_exporter": "python",
   "pygments_lexer": "ipython3",
   "version": "3.7.7"
  }
 },
 "nbformat": 4,
 "nbformat_minor": 4
}
